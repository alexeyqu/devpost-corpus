{
 "cells": [
  {
   "cell_type": "code",
   "execution_count": 2,
   "metadata": {
    "collapsed": true
   },
   "outputs": [],
   "source": [
    "import pandas as pd\n",
    "import csv\n",
    "import matplotlib.pyplot as plt\n",
    "import numpy as np\n",
    "from collections import Counter\n",
    "from nltk.tokenize import RegexpTokenizer\n",
    "from collections import defaultdict \n",
    "import nltk\n",
    "\n",
    "%matplotlib inline\n",
    "\n",
    "plt.style.use('ggplot')  # Красивые графики\n",
    "plt.rcParams['figure.figsize'] = (15, 5)  # Размер картинок"
   ]
  },
  {
   "cell_type": "code",
   "execution_count": 10,
   "metadata": {
    "collapsed": true
   },
   "outputs": [],
   "source": [
    "df = pd.read_csv('../crawler/texts.csv',\n",
    "                   sep='\\n', encoding='utf8')"
   ]
  },
  {
   "cell_type": "code",
   "execution_count": 11,
   "metadata": {
    "collapsed": false
   },
   "outputs": [
    {
     "name": "stdout",
     "output_type": "stream",
     "text": [
      "                                                    text\n",
      "0      Inspiration In the current media landscape, co...\n",
      "1      Inspiration I wanted to explore Mobile and Clo...\n",
      "2      My kid fell sick with the cold just before our...\n",
      "3      Intel Curie based wireless sensor network Intr...\n",
      "4      Inspiration bl What it does How I built it Cha...\n",
      "5      Challenge Create an app that contains all appl...\n",
      "6      Inspiration Previously, we (team behind StepSh...\n",
      "7      A Realtime Chat App for Educational Ecosystem....\n",
      "8      Who are we? Our team is made of two young moti...\n",
      "9      Inspiration To try and model the stock price m...\n",
      "10     Indra Indra is a personal assistant and a inte...\n",
      "11     Inspiration Ever happened to you that on red s...\n",
      "12     Inspiration Today's newspapers are filled with...\n",
      "13     Inspiration We want software engineering and p...\n",
      "14     Inspiration Games with split screen multiplaye...\n",
      "15     Online shopping is around for quit a long time...\n",
      "16     Inspiration The main inspiration behind this i...\n",
      "17     Inspiration In Africa, where I come from, inte...\n",
      "18     For a thorough review of our approach, solutio...\n",
      "19     Inspiration It is inspired by the data of the ...\n",
      "20     Inspiration In almost all automation which are...\n",
      "21     Experience is live at https://heytaxi.ma https...\n",
      "22     Inspiration Although there are so many documen...\n",
      "23     Inspiration From the touching scenes of seeing...\n",
      "24     Inspiration Indore is a place with lots of com...\n",
      "25     Inspiration While working with one of our cust...\n",
      "26     Inspiration A user wanted to sort all issue ty...\n",
      "27     Inspiration when the sponsor demo the speed of...\n",
      "28     Pneuma A project created during the 2015 PACT ...\n",
      "29     Inspiration As the cook of the household, I of...\n",
      "...                                                  ...\n",
      "98598  Inspiration This app is inspired by an actual ...\n",
      "98599  Lava Lamp: FlowOn Marching Cubes:\\nCreated a l...\n",
      "98600  Inspiration As engineering girls, we are usual...\n",
      "98601  As college students, we have to look at many, ...\n",
      "98602  Inspiration I am a part of a club at my high s...\n",
      "98603  Inspiration We were inspired by recent politic...\n",
      "98604  Inspiration I was learning to code and was att...\n",
      "98605  Summary With more than 3.8 million sports-rela...\n",
      "98606  Dismantling Data Tyranny With Health Data Demo...\n",
      "98607  Diabetes impacts the quality of life of over 3...\n",
      "98608  Inspiration We want to discourage packaging fo...\n",
      "98609  Project details: https://hackaday.io/project/1...\n",
      "98610  Project details: https://hackaday.io/project/9...\n",
      "98611  Project description here: https://hackaday.io/...\n",
      "98612  Inspiration Since our team is composed of a Cr...\n",
      "98613  Inspiration Bethaney and I love plants. Owning...\n",
      "98614  ჩვენი საიტის მიზანია დაეხმაროს ხალხს იპოვოს და...\n",
      "98615  We live in a world where healthcare is conside...\n",
      "98616  Inspiration I'm an economics and computer scie...\n",
      "98617  Inspiration When we are on our phone, we alway...\n",
      "98618  The idea for Smart Radiology and the first ste...\n",
      "98619  Projection mapping in dynamic fashion in holog...\n",
      "98620                        Fab Shop eCommerce Shop App\n",
      "98621  Inspiration Desktop widget for managing emails...\n",
      "98622  Incpetion Games Remember that crazy version of...\n",
      "98623  Inspiration The world needs more memes. We wan...\n",
      "98624  Inspiration Have you ever got to the end of a ...\n",
      "98625  Inspiration There are tonne of people online w...\n",
      "98626  There are 100 million active landmines in the ...\n",
      "98627  Inspiration We wanted to use Leap Motion for s...\n",
      "\n",
      "[98628 rows x 1 columns]\n"
     ]
    }
   ],
   "source": [
    "print(df)"
   ]
  },
  {
   "cell_type": "code",
   "execution_count": 22,
   "metadata": {
    "collapsed": false
   },
   "outputs": [
    {
     "name": "stdout",
     "output_type": "stream",
     "text": [
      "['Inspiration', 'In', 'the', 'current', 'media', 'landscape', 'control', 'over', 'distribution', 'has', 'become', 'almost', 'as', 'important', 'as', 'the', 'actual', 'creation', 'of', 'content', 'and', 'that', 'has', 'given', 'Facebook', 'a', 'huge', 'amount', 'of', 'power', 'The', 'impact', 'that', 'Facebook', 'newsfeed', 'has', 'in', 'the', 'formation', 'of', 'opinions', 'in', 'the', 'real', 'world', 'is', 'so', 'huge', 'that', 'it', 'potentially', 'affected', 'the', '2016', 'election', 'decisions', 'however', 'these', 'newsfeed', 'were', 'not', 'completely', 'accurate', 'Our', 'solution', 'FiB', 'because', 'With', '1', '5', 'Billion', 'Users', 'Every', 'Single', 'Tweak', 'in', 'an', 'Algorithm', 'Can', 'Make', 'a', 'Change', 'and', 'we', 'dont', 'stop', 'at', 'just', 'one', 'What', 'it', 'does', 'Our', 'algorithm', 'is', 'two', 'fold', 'as', 'follows', 'Content', 'consumption', 'Our', 'chrome', 'extension', 'goes', 'through', 'your', 'facebook', 'feed', 'in', 'real', 'time', 'as', 'you', 'browse', 'it', 'and', 'verifies', 'the', 'authenticity', 'of', 'posts', 'These', 'posts', 'can', 'be', 'status', 'updates', 'images', 'or', 'links', 'Our', 'backend', 'AI', 'checks', 'the', 'facts', 'within', 'these', 'posts', 'and', 'verifies', 'them', 'using', 'image', 'recognition', 'keyword', 'extraction', 'and', 'source', 'verification', 'and', 'a', 'twitter', 'search', 'to', 'verify', 'if', 'a', 'screenshot', 'of', 'a', 'twitter', 'update', 'posted', 'is', 'authentic', 'The', 'posts', 'then', 'are', 'visually', 'tagged', 'on', 'the', 'top', 'right', 'corner', 'in', 'accordance', 'with', 'their', 'trust', 'score', 'If', 'a', 'post', 'is', 'found', 'to', 'be', 'false', 'the', 'AI', 'tries', 'to', 'find', 'the', 'truth', 'and', 'shows', 'it', 'to', 'you', 'Content', 'consumption', 'Content', 'creation', 'Each', 'time', 'a', 'user', 'posts', 'shares', 'content', 'our', 'chat', 'bot', 'uses', 'a', 'webhook', 'to', 'get', 'a', 'call', 'This', 'chat', 'bot', 'then', 'uses', 'the', 'same', 'backend', 'AI', 'as', 'content', 'consumption', 'to', 'determine', 'if', 'the', 'new', 'post', 'by', 'the', 'user', 'contains', 'any', 'unverified', 'information', 'If', 'so', 'the', 'user', 'is', 'notified', 'and', 'can', 'choose', 'to', 'either', 'take', 'it', 'down', 'or', 'let', 'it', 'exist', 'Content', 'creation', 'How', 'we', 'built', 'it', 'Our', 'chrome', 'extension', 'is', 'built', 'using', 'javascript', 'that', 'uses', 'advanced', 'web', 'scraping', 'techniques', 'to', 'extract', 'links', 'posts', 'and', 'images', 'This', 'is', 'then', 'sent', 'to', 'an', 'AI', 'The', 'AI', 'is', 'a', 'collection', 'of', 'API', 'calls', 'that', 'we', 'collectively', 'process', 'to', 'produce', 'a', 'single', 'trust', 'factor', 'The', 'APIs', 'include', 'Microsoft', 's', 'cognitive', 'services', 'such', 'as', 'image', 'analysis', 'text', 'analysis', 'bing', 'web', 'search', 'Twitter', 's', 'search', 'API', 'and', 'Google', 's', 'Safe', 'Browsing', 'API', 'The', 'backend', 'is', 'written', 'in', 'Python', 'and', 'hosted', 'on', 'Heroku', 'The', 'chatbot', 'was', 'built', 'using', 'Facebook', 's', 'wit', 'ai', 'Challenges', 'we', 'ran', 'into', 'Web', 'scraping', 'Facebook', 'was', 'one', 'of', 'the', 'earliest', 'challenges', 'we', 'faced', 'Most', 'DOM', 'elements', 'in', 'Facebook', 'have', 'div', 'ids', 'that', 'constantly', 'change', 'making', 'them', 'difficult', 'to', 'keep', 'track', 'of', 'Another', 'challenge', 'was', 'building', 'an', 'AI', 'that', 'knows', 'the', 'difference', 'between', 'a', 'fact', 'and', 'an', 'opinion', 'so', 'that', 'we', 'do', 'not', 'flag', 'opinions', 'as', 'false', 'since', 'only', 'facts', 'can', 'be', 'false', 'Lastly', 'integrating', 'all', 'these', 'different', 'services', 'in', 'different', 'languages', 'together', 'using', 'a', 'single', 'web', 'server', 'was', 'a', 'huge', 'challenge', 'Accomplishments', 'that', 'we', 're', 'proud', 'of', 'All', 'of', 'us', 'were', 'new', 'to', 'Javascript', 'so', 'we', 'all', 'picked', 'up', 'a', 'new', 'language', 'this', 'weekend', 'We', 'are', 'proud', 'that', 'we', 'could', 'successfully', 'web', 'scrape', 'Facebook', 'which', 'uses', 'a', 'lot', 'of', 'techniques', 'to', 'prevent', 'people', 'from', 'doing', 'so', 'Finally', 'the', 'flawless', 'integration', 'we', 'were', 'able', 'to', 'create', 'between', 'these', 'different', 'services', 'really', 'made', 'us', 'feel', 'accomplished', 'What', 'we', 'learned', 'All', 'concepts', 'used', 'here', 'were', 'new', 'to', 'us', 'Two', 'people', 'on', 'our', 'time', 'are', 'first', 'time', 'hackathon', 'ers', 'and', 'learned', 'completely', 'new', 'technologies', 'in', 'the', 'span', 'of', '36hrs', 'We', 'learned', 'Javascript', 'Python', 'flask', 'servers', 'and', 'AI', 'services', 'What', 's', 'next', 'for', 'FiB', 'Hopefully', 'this', 'can', 'be', 'better', 'integrated', 'with', 'Facebook', 'and', 'then', 'be', 'adopted', 'by', 'other', 'social', 'media', 'platforms', 'to', 'make', 'sure', 'we', 'stop', 'believing', 'in', 'lies']\n",
      "[]\n"
     ]
    }
   ],
   "source": [
    "tokenizer = RegexpTokenizer(r'\\w+')\n",
    "# print([text for text in df['text'][::10000]])# for word in tokenizer.tokenize(text)])\n",
    "print(tokenizer.tokenize(df['text'][0]))\n",
    "print(tokenizer.tokenize(''))"
   ]
  },
  {
   "cell_type": "code",
   "execution_count": 42,
   "metadata": {
    "collapsed": false
   },
   "outputs": [
    {
     "name": "stdout",
     "output_type": "stream",
     "text": [
      "nan\n",
      "nan\n",
      "nan\n",
      "nan\n",
      "nan\n",
      "nan\n",
      "nan\n",
      "nan\n",
      "nan\n",
      "nan\n",
      "nan\n",
      "nan\n",
      "nan\n",
      "nan\n",
      "nan\n",
      "nan\n",
      "nan\n",
      "nan\n",
      "nan\n",
      "nan\n",
      "nan\n",
      "nan\n",
      "nan\n",
      "nan\n",
      "nan\n",
      "nan\n",
      "nan\n",
      "nan\n",
      "nan\n",
      "nan\n",
      "nan\n",
      "nan\n",
      "nan\n",
      "nan\n",
      "nan\n",
      "nan\n",
      "nan\n",
      "nan\n",
      "nan\n",
      "nan\n",
      "nan\n",
      "nan\n",
      "nan\n",
      "nan\n",
      "nan\n",
      "nan\n"
     ]
    }
   ],
   "source": [
    "tokenizer = RegexpTokenizer(r'\\w+')\n",
    "words = []\n",
    "texts = []\n",
    "for text in df['text']:\n",
    "    try:\n",
    "        words += tokenizer.tokenize(text)\n",
    "    except:\n",
    "        print(text)\n",
    "        continue\n",
    "    texts.append(text)"
   ]
  },
  {
   "cell_type": "code",
   "execution_count": 44,
   "metadata": {
    "collapsed": false
   },
   "outputs": [
    {
     "name": "stdout",
     "output_type": "stream",
     "text": [
      "98582\n",
      "1387.8383173398795 235.20463167718245\n"
     ]
    }
   ],
   "source": [
    "n_of_texts = len(texts)\n",
    "print(n_of_texts)\n",
    "mean_text_len_in_symbols = np.average(list(map(len, texts)))\n",
    "mean_text_len_in_words = np.average(list(map(len, [tokenizer.tokenize(text) for text in texts])))\n",
    "print(mean_text_len_in_symbols, mean_text_len_in_words)"
   ]
  },
  {
   "cell_type": "code",
   "execution_count": 36,
   "metadata": {
    "collapsed": true
   },
   "outputs": [],
   "source": [
    "word_counts = Counter(words)"
   ]
  },
  {
   "cell_type": "code",
   "execution_count": 37,
   "metadata": {
    "collapsed": false
   },
   "outputs": [
    {
     "name": "stdout",
     "output_type": "stream",
     "text": [
      "[('the', 970113), ('to', 815649), ('and', 621710), ('a', 512381), ('of', 485416), ('we', 283364), ('for', 277672), ('in', 262755), ('that', 253250), ('it', 246986), ('is', 224686), ('with', 196736), ('I', 182395), ('on', 164782), ('What', 155747), ('We', 149023), ('s', 140434), ('can', 118182), ('be', 115470), ('as', 114281), ('you', 113958), ('The', 111397), ('are', 108217), ('our', 96512), ('an', 95161), ('into', 93532), ('this', 88723), ('from', 87566), ('was', 83616), ('by', 80875)]\n"
     ]
    }
   ],
   "source": [
    "print(word_counts.most_common(30))"
   ]
  },
  {
   "cell_type": "code",
   "execution_count": 3,
   "metadata": {
    "collapsed": false
   },
   "outputs": [
    {
     "name": "stdout",
     "output_type": "stream",
     "text": [
      "[nltk_data] Downloading package punkt to /home/pitovsky/nltk_data...\n",
      "[nltk_data]   Package punkt is already up-to-date!\n"
     ]
    },
    {
     "data": {
      "text/plain": [
       "True"
      ]
     },
     "execution_count": 3,
     "metadata": {},
     "output_type": "execute_result"
    }
   ],
   "source": [
    "nltk.download('punkt')"
   ]
  },
  {
   "cell_type": "code",
   "execution_count": 53,
   "metadata": {
    "collapsed": true
   },
   "outputs": [],
   "source": [
    "sent_tokenizer = nltk.data.load('nltk:tokenizers/punkt/russian.pickle')\n",
    "sents = [sent_tokenizer.tokenize(text) for text in texts]"
   ]
  },
  {
   "cell_type": "code",
   "execution_count": 58,
   "metadata": {
    "collapsed": false,
    "scrolled": true
   },
   "outputs": [
    {
     "name": "stdout",
     "output_type": "stream",
     "text": [
      "10.955052646527763\n"
     ]
    }
   ],
   "source": [
    "print(np.average(list(map(len, sents))))"
   ]
  },
  {
   "cell_type": "code",
   "execution_count": 4,
   "metadata": {
    "collapsed": true
   },
   "outputs": [],
   "source": [
    "import sqlite3"
   ]
  },
  {
   "cell_type": "code",
   "execution_count": 74,
   "metadata": {
    "collapsed": false
   },
   "outputs": [],
   "source": [
    "conn = sqlite3.connect('../crawler/devpost.sqlite')\n",
    "c = conn.cursor()\n",
    "c.execute('INSERT OR IGNORE INTO projects(url, title, headline, hackathon, text, builtwith, likes, winner)' +\n",
    "          ' SELECT url, title, headline, hackathon, text, builtwith, likes, winner FROM projects_old')\n",
    "c.close()"
   ]
  },
  {
   "cell_type": "code",
   "execution_count": 107,
   "metadata": {
    "collapsed": false
   },
   "outputs": [
    {
     "name": "stdout",
     "output_type": "stream",
     "text": [
      "TRAVIS-Traffic Realtime Assistant Via Internet Service (557liked)\n",
      "853 tags\n"
     ]
    }
   ],
   "source": [
    "conn = sqlite3.connect('../crawler/devpost.sqlite')\n",
    "c = conn.cursor()\n",
    "c.execute('SELECT * FROM projects ORDER BY likes DESC LIMIT 1')\n",
    "project = c.fetchone()\n",
    "c = conn.cursor()\n",
    "c.execute('SELECT * FROM tokens WHERE project_id=?', (project[0],))\n",
    "tags = c.fetchall()\n",
    "conn.close()\n",
    "print(project[2] + ' (' + str(project[7]) + 'liked)')\n",
    "print(str(len(tags)) + ' tags')"
   ]
  },
  {
   "cell_type": "code",
   "execution_count": 110,
   "metadata": {
    "collapsed": true
   },
   "outputs": [],
   "source": [
    "text = project[5]\n",
    "for tag in sorted(tags, key=lambda tag: tag[2], reverse=True):\n",
    "    #if tag[4] != '<EOS>':\n",
    "    text = text[:tag[2]] + '[' + text[tag[2]:tag[3]] + '-' + tag[4] + ']' + text[tag[3]:]"
   ]
  },
  {
   "cell_type": "code",
   "execution_count": 111,
   "metadata": {
    "collapsed": false
   },
   "outputs": [
    {
     "data": {
      "text/plain": [
       "\"[Inspiration-NN] [What-WP] [it-PRP] [does-VBZ] [Travis-NNP] [(-(][Traffic-NNP] [Realtime-NNP] [Assistance-NNP] [Via-NNP] [Internet-NNP] [Services-NNPS][)-)][:-:] [as-IN] [the-DT] [name-NN] [suggests-VBZ] [is-VBZ] [a-DT] [mobile-JJ] [app-NN] [that-WDT] [provides-VBZ] [real-time-JJ] [assistance-NN] [to-TO] [its-PRP$] [users-NNS] [(-(][target-VB] [userbase-NN][:-:] [drivers-NNS][,-,] [pedestrians-NNS] [&-CC][amp-NN][;-:] [passengers-NNS][)-)][[-.].  -<EOS>][Travis-NNP] [(-(][Traffic-NNP] [Realtime-NNP] [Assistance-NNP] [Via-NNP] [Internet-NNP] [Services-NNPS][)-)][:-:] [real-time-JJ] [assistance-NN] [It-PRP] [is-VBZ] [having-VBG] [4-CD] [major-JJ] [modules-NNS][:-:] \\n[Traffic-NNP] [Feed-NNP] [(-(][Userbase-NNP][:-:] [Drivers-NNS][,-,] [Pedestrians-NNPS][,-,] [Passengers-NNPS][)-)][:-:] [Users-NNS] [can-MD] [post-VB] [anything-NN] [related-JJ] [to-TO] [city-NN] [traffic-NN] [on-IN] [the-DT] [feed-NN] [in-IN] [order-NN] [to-TO] [inform-VB] [other-JJ] [about-IN] [it-PRP][,-,] [this-DT] [will-MD] [be-VB] [visible-JJ] [to-TO] [everyone-NN][[-.]. -<EOS>][Users-NNS] [can-MD] [add-VB] [image-NN] [and-CC] [tags-NNS] [in-IN] [their-PRP$] [posts-NNS] [to-TO] [make-VB] [their-PRP$] [posts-NNS] [more-RBR] [comprehensible-JJ][[-.]. -<EOS>][Sample-NNP] [content-NN] [of-IN] [feed-NN] [can-MD] [be-VB] [accident-JJ] [alert-NN][,-,] [traffic-NN] [jam-NN][,-,] [congestion-NN] [alert-NN][,-,] [or-CC] [general-JJ] [post-NN][[-.].  \\n-<EOS>][Pedestrian-JJ] [Mode-NNP] [(-(][Userbase-NNP][:-:] [Pedestrians-NNPS][)-)]\\n[Activate-NNP] [pedestrian-JJ] [mode-NN] [while-IN] [walking-VBG] [on-IN] [the-DT] [streets-NNS][[-.]. -<EOS>][This-DT] [will-MD] [alert-VB] [you-PRP] [to-TO] [nearby-VB] [road-NN] [intersections-NNS][,-,] [dangers-NNS] [and-CC] [other-JJ] [hazards-NNS] [related-VBN] [to-TO] [pedestrian-JJ] [safety-NN][[-.]. -<EOS>][These-DT] [alerts-NNS] [are-VBP] [given-VBN] [when-WRB] [the-DT] [user-NN] [reaches-VBZ] [20m-CD] [in-IN] [the-DT] [range-NN] [of-IN] [any-DT] [potential-JJ] [hazardous-JJ] [geo-location-NN][[-.].   \\n-<EOS>][Parking-VBG] [Finder-NNP] [(-(][Drivers-NNP][)-)]\\n[Parking-VBG] [finder-NN] [will-MD] [show-VB] [you-PRP] [nearby-JJ] [parking-VBG] [spots-NNS] [and-CC] [the-DT] [numbers-NNS] [of-IN] [current-JJ] [free-JJ] [parking-VBG] [spots-NNS] [in-IN] [the-DT] [park[in-NN]-IN]g in [real-JJ] [time-NN][[-.]. -<EOS>][Real-time-JJ] [data-NNS] [is-VBZ] [maintained-VBN] [by-IN] [another-DT] [supportive-JJ] [application-NN] [--:] [Travis-NNP] [Parking-NNP] [Assist-NNP] [which-WDT] [I-PRP]['ve-VBP] [built-VBN][[-.]. -<EOS>][This-DT] [app-NN] [will-MD] [be-VB] [used-VBN] [by-IN] [the-DT] [watchman-NN] [of-IN] [the-DT] [parking-VBG] [spot-NN] [to-TO] [update-VB] [the-DT] [number-NN] [of-IN] [entries-NNS] [of-IN] [vehicles-NNS] [in-IN] [the-DT] [parking-NN][[-.]. \\n-<EOS>][Geo-NNP] [Taxi-NNP] [Meter-NNP] [(-(][Passengers-NNPS][)-)]\\n[Geo-NNP] [Taxi-NNP] [Meter-NNP] [helps-VBZ] [users-NNS] [to-TO] [track-VB] [their-PRP$] [route-NN] [on-IN] [MAP-NNP] [in-IN] [real-time-NN] [while-IN] [they-PRP] [are-VBP] [traveling-VBG][[-.]. -<EOS>][This-DT] [way-NN] [they-PRP] [will-MD] [not-RB] [get-VB] [fooled-VBN] [by-IN] [taxi-NN] [drivers-NNS] [on-IN] [taking-VBG] [the-DT] [wrong-JJ] [route-NN][[-.]. -<EOS>][It-PRP] [also-RB] [h[a-VBZ]-DT]s a [fare-NN] [calculator-NN] [that-WDT] [calculates-VBZ] [fare-NN] [in-IN] [real-JJ] [time-NN][[-.]. \\n -<EOS>][Traffic-NNP] [Feed-NNP] [(-(][Userbase-NNP][:-:] [Drivers-NNS][,-,] [Pedestrians-NNPS][,-,] [Passengers-NNPS][)-)][:-:] [Users-NNS] [can-MD] [post-VB] [anything-NN] [related-JJ] [to-TO] [city-NN] [traffic-NN] [on-IN] [the-DT] [feed-NN] [in-IN] [order-NN] [to-TO] [inform-VB] [other-JJ] [about-IN] [it-PRP][,-,] [this-DT] [will-MD] [be-VB] [visible-JJ] [to-TO] [everyone-NN][[-.]. -<EOS>][Users-NNS] [can-MD] [add-VB] [image-NN] [and-CC] [tags-NNS] [in-IN] [their-PRP$] [posts-NNS] [to-TO] [make-VB] [their-PRP$] [posts-NNS] [more-RBR] [comprehensible-JJ][[-.]. -<EOS>][Sample-NNP] [content-NN] [of-IN] [feed-NN] [can-MD] [be-VB] [accident-JJ] [alert-NN][,-,] [traffic-NN] [jam-NN][,-,] [congestion-NN] [alert-NN][,-,] [or-CC] [general-JJ] [post-NN][[-.].   -<EOS>][Traffic-NNP] [Feed-NNP] [Pedestrian-JJ] [Mode-NNP] [(-(][Userbase-NNP][:-:] [Pedestrians-NNPS][)-)]\\n[Activate-NNP] [pedestrian-JJ] [mode-NN] [while-IN] [walking-VBG] [on-IN] [the-DT] [streets-NNS][[-.]. -<EOS>][This-DT] [will-MD] [alert-VB] [you-PRP] [to-TO] [nearby-VB] [road-NN] [intersections-NNS][,-,] [dangers-NNS] [and-CC] [other-JJ] [hazards-NNS] [related-VBN] [to-TO] [pedestrian-JJ] [safety-NN][[-.]. -<EOS>][These-DT] [alerts-NNS] [are-VBP] [given-VBN] [when-WRB] [the-DT] [user-NN] [reaches-VBZ] [20m-CD] [in-IN] [the-DT] [range-NN] [of-IN] [any-DT] [potential-JJ] [hazardous-JJ] [geo-location-NN][[-.].    -<EOS>][Pedestrian-JJ] [Mode-NNP] [Parking-NNP] [Finder-NNP] [(-(][Drivers-NNP][)-)]\\n[Parking-VBG] [finder-NN] [will-MD] [show-VB] [you-PRP] [nearby-JJ] [parking-VBG] [spots-NNS] [and-CC] [the-DT] [numbers-NNS] [of-IN] [current-JJ] [free-JJ] [parking-VBG] [spots-NNS] [in-IN] [the-DT] [park[in-NN]-IN]g in [real-JJ] [time-NN][[-.]. -<EOS>][Real-time-JJ] [data-NNS] [is-VBZ] [maintained-VBN] [by-IN] [another-DT] [supportive-JJ] [application-NN] [--:] [Travis-NNP] [Parking-NNP] [Assist-NNP] [which-WDT] [I-PRP]['ve-VBP] [built-VBN][[-.]. -<EOS>][This-DT] [app-NN] [will-MD] [be-VB] [used-VBN] [by-IN] [the-DT] [watchman-NN] [of-IN] [the-DT] [parking-VBG] [spot-NN] [to-TO] [update-VB] [the-DT] [number-NN] [of-IN] [entries-NNS] [of-IN] [vehicles-NNS] [in-IN] [the-DT] [parking-NN][[-.].  -<EOS>][Parking-VBG] [Finder-NNP] [Geo-NNP] [Taxi-NNP] [Meter-NNP] [(-(][Passengers-NNPS][)-)]\\n[Geo-NNP] [Taxi-NNP] [Meter-NNP] [helps-VBZ] [users-NNS] [to-TO] [track-VB] [their-PRP$] [route-NN] [on-IN] [MAP-NNP] [in-IN] [real-time-NN] [while-IN] [they-PRP] [are-VBP] [traveling-VBG][[-.]. -<EOS>][This-DT] [way-NN] [they-PRP] [will-MD] [not-RB] [get-VB] [fooled-VBN] [by-IN] [taxi-NN] [drivers-NNS] [on-IN] [taking-VBG] [the-DT] [wrong-JJ] [route-NN][[-.]. -<EOS>][It-PRP] [also-RB] [h[a-VBZ]-DT]s a [fare-NN] [calculator-NN] [that-WDT] [calculates-VBZ] [fare-NN] [in-IN] [real-JJ] [time-NN][[-.].  -<EOS>][Geo-NNP] [Taxi-NNP] [Meter-NNP] [How-NNP] [I-PRP] [built-VBD] [it-PRP] [I-PRP] [started-VBD] [building-VBG] [the-DT] [app-NN] [by-IN] [first-JJ] [drawing-VBG] [the-DT] [mockups-NNS] [or-CC] [rough-JJ] [sketches-NNS] [on-IN] [paper-NN][[-.]. -<EOS>][After-IN] [designing-VBG] [came-VBD] [the-DT] [part-NN] [of-IN] [development-NN][[-.]. -<EOS>][For-IN] [backend-NN] [I-PRP] [used-VBD] [firebase-NN][[-.]. -<EOS>][For-IN] [version-NN] [control-NN] [system-NN][,-,] [I-PRP] [used-VBD] [github-NN] [and-CC] [whole-JJ] [source-NN] [code-NN] [of-IN] [this-DT] [app-NN] [is-VBZ] [present-JJ] [on-IN] [my-PRP$] [github-JJ] [repository-NN][[-.].   -<EOS>][Challenges-NNS] [I-PRP] [ran-VBD] [into-IN] [Being-VBG] [the-DT] [only-JJ] [developer-NN] [for-IN] [such-PDT] [a-DT] [large-JJ] [project-NN][,-,] [I-PRP] [had-VBD] [to-TO] [manage-VB] [my-PRP$] [time-NN] [efficiently-RB][[-.]. -<EOS>][From-IN] [designing-VBG] [to-TO] [developing-VBG] [to-TO] [testing-VBG][[-.]. -<EOS>][I-PRP] [did-VBD] [it-PRP] [all-DT][[-.]. -<EOS>][Time-NNP] [management-NN] [was-VBD] [the-DT] [biggest-JJS] [challenge-NN] [that-IN] [I-PRP] [faced-VBD][[-.]. -<EOS>][Accomplishments-NNS] [that-WDT] [I-PRP]['m-VBP] [proud-JJ] [of-IN] [The-DT] [modules-NNS] [that-IN] [I-PRP] [made-VBD] [when-WRB] [started-JJ] [working-VBG] [properly-RB] [gave-VBD] [me-PRP] [the-DT] [biggest-JJS] [sense-NN] [of-IN] [accomplishment-NN][[-.]. -<EOS>][I-PRP] [used-VBD] [various-JJ] [students-NNS] [of-IN] [my-PRP$] [college-NN] [for-IN] [testing-VBG] [purpose-NN][,-,] [and-CC] [they-PRP] [were-VBD]  [What-WP] [I-PRP] [learned-VBD] [While-IN] [making-VBG] [this-DT] [project-NN] [I-PRP] [learned-VBD] [the-DT] [concepts-NNS] [of-IN] [fireb[[--NN]DT]as-IN]e as a [backend-NN][,-,] [and-CC] [how-WRB] [to-TO] [do-VB] [testing-VBG] [with-IN] [the-DT] [help-NN] [of-IN] [firebase-NN][[-.].   -<EOS>][What-WP]['s-VBZ] [next-JJ] [for-IN] [TRAVIS-Traffic-JJ] [Realtime-NNP] [Assistant-NNP] [Via-NNP] [Internet-NNP] [Service-NNP] [In-IN] [future-JJ] [prospects-NNS][,-,] [I-PRP] [want-VBP] [to-TO] [integrate-VB] [Internet-NNP] [of-IN] [thing-NN] [technology-NN] [(-(][IoT-NNP][)-)] [with-IN] [my-PRP$] [app-NN] [to-TO] [provide-VB] [real-time-JJ] [instant-JJ] [notification-NN] [in-IN] [case-NN] [of-IN] [a-DT] [traffic-NN] [accident-NN][[-.]. -<EOS>][This-DT] [notification-NN] [will-MD] [reach-VB] [to-TO] [the-DT] [nearby-JJ] [police-NN] [station-NN][,-,] [hospital-NN] [and-CC] [relatives-NNS] [of-IN] [the-DT] [person-NN][[-.]. \\n-<EOS>][I-PRP] [would-MD] [also-RB] [like-VB] [to-TO] [integrate-VB] [machine-NN] [learning-VBG] [algorithms-NN] [to-TO] [improve-VB] [the-DT] [quality-NN] [of-IN] [traffic-NN] [feed-NN] [and-CC] [make-VB] [it-PRP] [more-RBR] [relevant-JJ] [to-TO] [the-DT] [users-NNS] [based-VBN] [on-IN] [their-PRP$] [locations-NNS][.-.][-<EOS>]\""
      ]
     },
     "execution_count": 111,
     "metadata": {},
     "output_type": "execute_result"
    }
   ],
   "source": [
    "text"
   ]
  },
  {
   "cell_type": "code",
   "execution_count": null,
   "metadata": {
    "collapsed": true
   },
   "outputs": [],
   "source": []
  }
 ],
 "metadata": {
  "kernelspec": {
   "display_name": "Python 3",
   "language": "python",
   "name": "python3"
  },
  "language_info": {
   "codemirror_mode": {
    "name": "ipython",
    "version": 3
   },
   "file_extension": ".py",
   "mimetype": "text/x-python",
   "name": "python",
   "nbconvert_exporter": "python",
   "pygments_lexer": "ipython3",
   "version": "3.5.2"
  }
 },
 "nbformat": 4,
 "nbformat_minor": 2
}
